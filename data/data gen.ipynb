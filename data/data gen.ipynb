{
 "cells": [
  {
   "cell_type": "code",
   "execution_count": 1,
   "id": "66ae839c-404e-4085-9d2b-fa01ab83645e",
   "metadata": {},
   "outputs": [],
   "source": [
    "import pandas as pd\n",
    "import numpy as np\n",
    "\n",
    "np.random.seed(42)\n",
    "\n",
    "dates = pd.date_range(start=\"2024-01-01\", end=\"2024-06-30\", freq='D')\n",
    "stores = ['Store_1', 'Store_2']\n",
    "products = ['Umbrella', 'Raincoat', 'Summer Dress', 'Shirt']\n",
    "season_dict = {1: 'Winter', 2: 'Winter', 3: 'Spring', 4: 'Spring', 5: 'Summer', 6: 'Summer'}\n",
    "rain_mapping = {0: 0, 5: 30, 10: 60, 20: 90}\n",
    "\n",
    "data = []\n",
    "for date in dates:\n",
    "    month = date.month\n",
    "    season = season_dict[month]\n",
    "    forecast_temp_c = {\n",
    "        'Winter': np.random.uniform(15, 22),\n",
    "        'Spring': np.random.uniform(20, 27),\n",
    "        'Summer': np.random.uniform(28, 35)\n",
    "    }[season]\n",
    "    \n",
    "    forecast_rain_mm = np.random.choice([0, 5, 10, 20], p=[0.6, 0.2, 0.1, 0.1]) if season == 'Spring' else 0\n",
    "    forecast_rain_pct = rain_mapping[forecast_rain_mm]\n",
    "    festival = np.random.choice(['None', 'Spring Fest', 'Summer Sale'], p=[0.94, 0.03, 0.03])\n",
    "    \n",
    "    for store in stores:\n",
    "        for product in products:\n",
    "            base_sales = np.random.randint(5, 20)\n",
    "            sales = base_sales\n",
    "            if product in ['Umbrella', 'Raincoat']:\n",
    "                sales += int(forecast_rain_mm / 2)\n",
    "            elif product == 'Summer Dress' and season == 'Summer':\n",
    "                sales += int(forecast_temp_c / 3)\n",
    "            if festival != 'None':\n",
    "                sales += np.random.randint(5, 10)\n",
    "            \n",
    "            data.append({\n",
    "                'date': date,\n",
    "                'store_id': store,\n",
    "                'product_category': product,\n",
    "                'season': season,\n",
    "                'forecast_temp_c': round(forecast_temp_c, 1),\n",
    "                'forecast_rain_pct': forecast_rain_pct,\n",
    "                'festival': festival,\n",
    "                'sales': sales\n",
    "            })\n",
    "\n",
    "df = pd.DataFrame(data)\n",
    "df.to_csv(\"forecasting_demand_simplified.csv\", index=False)\n"
   ]
  }
 ],
 "metadata": {
  "kernelspec": {
   "display_name": "Python 3 (ipykernel)",
   "language": "python",
   "name": "python3"
  },
  "language_info": {
   "codemirror_mode": {
    "name": "ipython",
    "version": 3
   },
   "file_extension": ".py",
   "mimetype": "text/x-python",
   "name": "python",
   "nbconvert_exporter": "python",
   "pygments_lexer": "ipython3",
   "version": "3.11.7"
  }
 },
 "nbformat": 4,
 "nbformat_minor": 5
}
